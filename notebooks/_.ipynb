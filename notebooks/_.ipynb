{
 "cells": [
  {
   "cell_type": "markdown",
   "metadata": {},
   "source": [
    "# _\n",
    "_ 는 파이썬에서 쓰이는 특별한 변수 중 하나로,\n",
    "IDLE 에서는 일반적으로 파이썬 인터프리터가 마지막으로 연산한 값을 저장합니다.  \n",
    "\n",
    "하지만 보통 쓰이는 용례는 for 문입니다. for 문에서 변수를 사용하지 않을 때, _를 사용하는 관습이 있습니다.  \n",
    "pycharm에디터에서는 for 문에서 사용되지 않는 변수를 _로 선언하지 않으면 경고를 내뿜습니다."
   ]
  },
  {
   "cell_type": "code",
   "execution_count": 2,
   "metadata": {},
   "outputs": [],
   "source": [
    "tempList = [0 for _ in range(10)] # 잘 짠 코드\n",
    "\n",
    "weirdList = [0 for i in range(7)] # i에 엑세스 할 수 없는 말과 함께 경고"
   ]
  }
 ],
 "metadata": {
  "kernelspec": {
   "display_name": ".venv",
   "language": "python",
   "name": "python3"
  },
  "language_info": {
   "codemirror_mode": {
    "name": "ipython",
    "version": 3
   },
   "file_extension": ".py",
   "mimetype": "text/x-python",
   "name": "python",
   "nbconvert_exporter": "python",
   "pygments_lexer": "ipython3",
   "version": "3.12.3"
  }
 },
 "nbformat": 4,
 "nbformat_minor": 2
}
