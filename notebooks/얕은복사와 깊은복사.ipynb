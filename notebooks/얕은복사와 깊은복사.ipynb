{
 "cells": [
  {
   "cell_type": "markdown",
   "metadata": {},
   "source": [
    "파이썬에서 리스트를 복사해야 할 때가 있습니다. 이럴 때, list()나 슬라이싱을 이용해 복사하면 문제가 생깁니다."
   ]
  },
  {
   "cell_type": "code",
   "execution_count": 1,
   "metadata": {},
   "outputs": [
    {
     "name": "stdout",
     "output_type": "stream",
     "text": [
      "[[2, 0], [1, 1], [2, 2]]\n",
      "[[2, 0], [1, 1], [2, 2]]\n"
     ]
    }
   ],
   "source": [
    "a = [[0, 0], [1, 1], [2, 2]]\n",
    "b = list(a)\n",
    "\n",
    "a[0][0] = 2\n",
    "print(a)\n",
    "print(b)"
   ]
  },
  {
   "cell_type": "markdown",
   "metadata": {},
   "source": [
    "분명히 list()를 이용해 복사헀는데도 a와 b가 같은 값을 공유하는 것을 알 수 있습니다. 이는 mutable 객체인 리스트가 리스트 안에 있기 때문입니다.  \n",
    "\n",
    "list 안에 있는 list를 2차 리스트라고 하면, b = list(a)라는 문장은 1차 리스트만 복사하고, 그 리스트가 담고 있는 주소는 그대로 가져옵니다.  \n",
    "따라서 a와 b는 다른 리스트이지만, 갖고 있는 값이 완전히 같아집니다.  \n",
    "이런 복사방식은 얕은 복사라고 하고, 안에 있는 값까지 복사하려면 깊은 복사를 사용해야 합니다.\n",
    "\n",
    "깊은 복사는 copy 모듈의 deepcopy를 이용하면 됩니다."
   ]
  },
  {
   "cell_type": "code",
   "execution_count": 2,
   "metadata": {},
   "outputs": [
    {
     "name": "stdout",
     "output_type": "stream",
     "text": [
      "[[2, 0], [1, 1], [2, 2]]\n",
      "[[0, 0], [1, 1], [2, 2]]\n"
     ]
    }
   ],
   "source": [
    "from copy import deepcopy\n",
    "\n",
    "a = [[0, 0], [1, 1], [2, 2]]\n",
    "b = deepcopy(a)\n",
    "\n",
    "a[0][0] = 2\n",
    "print(a)\n",
    "print(b)"
   ]
  },
  {
   "cell_type": "markdown",
   "metadata": {},
   "source": [
    "잘 작동하는 것을 볼 수 있습니다. 다만, 깊은 복사는 모든 원소를 다 복사하므로 실행시간이 오래 걸릴 수 있습니다.  \n",
    "따라서, 자료구조와 알고리즘 문제를 풀 때에는 깊은 복사를 지양하고 다른 방법을 찾는 게 좋습니다."
   ]
  }
 ],
 "metadata": {
  "kernelspec": {
   "display_name": ".venv",
   "language": "python",
   "name": "python3"
  },
  "language_info": {
   "codemirror_mode": {
    "name": "ipython",
    "version": 3
   },
   "file_extension": ".py",
   "mimetype": "text/x-python",
   "name": "python",
   "nbconvert_exporter": "python",
   "pygments_lexer": "ipython3",
   "version": "3.12.3"
  }
 },
 "nbformat": 4,
 "nbformat_minor": 2
}
