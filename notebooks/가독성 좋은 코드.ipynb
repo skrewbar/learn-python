{
 "cells": [
  {
   "cell_type": "markdown",
   "metadata": {},
   "source": [
    "## 1. 코드 포매터 사용하기\n",
    "코드 포매터를 사용하면 들여쓰기와 같은 부분을 알아서 설정에 맞게 바꿔줍니다.  \n",
    "협업하는 팀에서 사용하는 포매터를 사용하면 가독성을 키울 수 있습니다.  "
   ]
  },
  {
   "cell_type": "markdown",
   "metadata": {},
   "source": [
    "## 2. 네이밍\n",
    "\n",
    "[나무위키](https://namu.wiki/w/%EC%BD%94%EB%94%A9%20%EC%8A%A4%ED%83%80%EC%9D%BC#s-3)를 참고하세요.\n",
    "\n",
    "1. 모든 변수와 함수는 snake_case 혹은 camelCase 를 사용합니다.  \n",
    "  ex) total_num, isCollected, areYouOkay\n",
    "\n",
    "2. 모든 클래스명은 PascalCase를 사용합니다.\n",
    "  ex) Calculator, GameHelper\n",
    "\n",
    "3. 상수는 SCREAMING_SNAKE_CASE 를 사용합니다.\n",
    "  ex) INT_INFINITY, ROOT_DIR, SYS_LIMIT\n",
    "\n",
    "\n",
    "좋은 변수 네이밍을 위한 몇 원칙이 있습니다.\n",
    "\n",
    "1. 의도를 분명히 밝히기  \n",
    "  길더라도 변수의 의미를 충분히 담는게 중요합니다.\n",
    "  d보다 elapsed_time_in_days가 낫습니다.\n",
    "  i보다 batch_idx가 낫습니다.\n",
    "\n",
    "2. 맥락을 고려하기\n",
    "  ```py\n",
    "  class User():\n",
    "    user_name = \"ISB\"\n",
    "  ```\n",
    "  위 코드에서 user_name은 User의 속성이므로 그냥 name으로 써도 괜찮습니다.\n",
    "\n",
    "  for 반복문에서 쓰는 i는 관습적인 경우므로 바꾸지 않아도 코드의 이해가 어렵지 않다면 i, j, k등을 써도 괜찮습니다.  \n",
    "\n",
    "3. 이미 있는 예약어, 내장 함수들의 이름을 삼가하기\n",
    "  이미 있는 키워드로 변수를 만들고 싶을 땐 끝에 _(underscore)하나를 추가해서 씁시다.\n",
    "  ```py\n",
    "  list_ = [0 for _ in range(10)]\n",
    "  set_ = set()\n",
    "  ```"
   ]
  },
  {
   "cell_type": "markdown",
   "metadata": {},
   "source": [
    "## 3. import문 최적화\n",
    "\n",
    "1. import는 **반드시** 파일 상단에 위치시키기\n",
    "2. 한 라인에 하나의 import만 하기\n",
    "\n",
    "```py\n",
    "import math, sys, os # 나쁜 코드\n",
    "\n",
    "import math # 좋은 코드\n",
    "import sys\n",
    "import os\n",
    "```"
   ]
  },
  {
   "cell_type": "markdown",
   "metadata": {},
   "source": [
    "## 4. f-string 사용하기\n",
    "\n",
    "더이상 문자열 포매팅을 할 때 %나 .format()을 쓰지 않습니다. 훨씬 편한 f-string이 있기 때문이죠.\n",
    "```py\n",
    "# C style formatting\n",
    "print('%d월 %d일' % (month, day))\n",
    "\n",
    "# str.format()\n",
    "print('{}월 {}일'.format(month, day))\n",
    "\n",
    "#f-string\n",
    "print(f'{month}월 {day}일')\n",
    "\n",
    "#f-string 활용\n",
    "key = 'var'\n",
    "value = 1.234\n",
    "\n",
    "print(f'{key!r:<10} = {value:.2f}')\n",
    "#'var' = 1.23\n",
    "```"
   ]
  },
  {
   "cell_type": "markdown",
   "metadata": {},
   "source": [
    "## 5. 관련 서적이나 영상 보기\n",
    "서적은 너무 두껍습니다. 21세기를 살아가는 MZ세대에 맞게 영상 시청으로 때우는 것도 괜찮습니다.\n",
    "\n",
    "- [더러운 if문 이쁘게 꾸미기](https://www.youtube.com/watch?v=PAR60O5aXTA&t=72s&pp=ygUZ7JWg7ZSM7L2U65SpIO2BtOumsOy9lOuTnA%3D%3D)\n",
    "- [코딩 책 한 권만 읽으면 이렇게 됩니다](https://www.youtube.com/watch?v=th7n1rmlO4I&pp=ygUZ7JWg7ZSM7L2U65SpIO2BtOumsOy9lOuTnA%3D%3D)"
   ]
  }
 ],
 "metadata": {
  "kernelspec": {
   "display_name": ".venv",
   "language": "python",
   "name": "python3"
  },
  "language_info": {
   "codemirror_mode": {
    "name": "ipython",
    "version": 3
   },
   "file_extension": ".py",
   "mimetype": "text/x-python",
   "name": "python",
   "nbconvert_exporter": "python",
   "pygments_lexer": "ipython3",
   "version": "3.12.3"
  }
 },
 "nbformat": 4,
 "nbformat_minor": 2
}
