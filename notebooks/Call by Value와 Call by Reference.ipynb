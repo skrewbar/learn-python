{
 "cells": [
  {
   "cell_type": "markdown",
   "metadata": {},
   "source": [
    "immutable 객체는 Call by Value로,  \n",
    "mutable 객체는 Call by Reference로 호출됩니다."
   ]
  },
  {
   "cell_type": "code",
   "execution_count": 1,
   "metadata": {},
   "outputs": [
    {
     "name": "stdout",
     "output_type": "stream",
     "text": [
      "[1, 2, 3, 1, 2, 3]\n",
      "10\n"
     ]
    }
   ],
   "source": [
    "def addList(list_: list) -> None:\n",
    "    list_ += [1, 2, 3]\n",
    "\n",
    "def add(n: int) -> None:\n",
    "    n += 1\n",
    "\n",
    "list_ = [1, 2, 3]\n",
    "addList(list_)\n",
    "n = 10\n",
    "add(n)\n",
    "\n",
    "print(list_)\n",
    "print(n)"
   ]
  },
  {
   "cell_type": "markdown",
   "metadata": {},
   "source": [
    "위에서 보이는 것처럼, list는 mutable 객체이므로 addList 함수를 통해 수정되고, int는 immutable 객체이므로 add 함수를 통해 수정되지 않습니다."
   ]
  }
 ],
 "metadata": {
  "kernelspec": {
   "display_name": ".venv",
   "language": "python",
   "name": "python3"
  },
  "language_info": {
   "codemirror_mode": {
    "name": "ipython",
    "version": 3
   },
   "file_extension": ".py",
   "mimetype": "text/x-python",
   "name": "python",
   "nbconvert_exporter": "python",
   "pygments_lexer": "ipython3",
   "version": "3.12.3"
  }
 },
 "nbformat": 4,
 "nbformat_minor": 2
}
