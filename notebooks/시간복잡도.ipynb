{
 "cells": [
  {
   "cell_type": "markdown",
   "metadata": {},
   "source": [
    "## 시간복잡도\n",
    "시간복잡도는 프로그램의 실행시간을 나타내주는 지표입니다. 빅-오 표기법을 이용해 O(f(x))와 같이 나타냅니다. 입력의 크기에 따라 프로그램의 실행 시간이 달라지는데, 입력이 커짐에 따라 프로그램의 실행시간이 얼마나 길어지는지 그 상승속도를 비교하는데 쓰입니다."
   ]
  },
  {
   "cell_type": "markdown",
   "metadata": {},
   "source": [
    "### O(1) : 상수 시간\n",
    "실행 시간이 입력의 크기와 상관없거나, 상한이 있는 경우입니다."
   ]
  },
  {
   "cell_type": "code",
   "execution_count": 2,
   "metadata": {},
   "outputs": [
    {
     "name": "stdout",
     "output_type": "stream",
     "text": [
      "0 1 2 3 4 5 6 7 8 9 "
     ]
    }
   ],
   "source": [
    "for i in range(10):\n",
    "    print(i, end=\" \")\n",
    "\n",
    "# 입력을 받지 않으므로, 입력의 크기와 상관이 없습니다."
   ]
  },
  {
   "cell_type": "markdown",
   "metadata": {},
   "source": [
    "### O(N) : 선형 시간\n",
    "실행 시간이 입력의 크기와 정비례하는 경우입니다."
   ]
  },
  {
   "cell_type": "code",
   "execution_count": null,
   "metadata": {},
   "outputs": [],
   "source": [
    "for i in range(int(input())):\n",
    "    print(i, end=\" \")"
   ]
  },
  {
   "cell_type": "markdown",
   "metadata": {},
   "source": [
    "### O(logN) : 로그 시간\n",
    "실행 시간이 입력의 크기의 로그에 정비례하는 경우입니다.\n",
    "여기서 말하는 로그는 2를 밑으로 하는 이진로그이지만, 입력의 크기가 커지면 밑을 따지는게 의미가 없기 때문에 생략하는 경우가 많습니다.\n",
    "\n",
    "이분 탐색이나 이진 트리를 사용하는 알고리즘에서 많이 보이는 시간복잡도 입니다."
   ]
  },
  {
   "cell_type": "code",
   "execution_count": 9,
   "metadata": {},
   "outputs": [
    {
     "name": "stdout",
     "output_type": "stream",
     "text": [
      "5\n"
     ]
    }
   ],
   "source": [
    "from bisect import bisect_left, bisect_right\n",
    "\n",
    "arr = list(map(int, input().split()))  # 오름차순 수열 입력\n",
    "i = int(input())  # 개수를 세고싶은 수 입력\n",
    "print(bisect_right(arr, i) - bisect_left(arr, i))"
   ]
  },
  {
   "cell_type": "markdown",
   "metadata": {},
   "source": [
    "### O(NlogN) : 선형 로그 시간\n",
    "효율적인 정렬 알고리즘이 여기에 해당합니다.\n",
    "\n",
    "참고로, 파이썬의 정렬함수는 병합 정렬과 선택 정렬을 섞은 팀 정렬로, O(NlogN)의 시간복잡도를 가집니다."
   ]
  },
  {
   "cell_type": "code",
   "execution_count": null,
   "metadata": {},
   "outputs": [],
   "source": [
    "arr = sorted(map(int, input().split()))\n",
    "print(*arr)"
   ]
  },
  {
   "cell_type": "markdown",
   "metadata": {},
   "source": [
    "### O(N^2) : 2차 시간\n",
    "비효율적인 정렬이 여기에 해당합니다. 버블 정렬, 삽입 정렬 등이 여기에 해당합니다."
   ]
  },
  {
   "cell_type": "code",
   "execution_count": 12,
   "metadata": {},
   "outputs": [
    {
     "name": "stdout",
     "output_type": "stream",
     "text": [
      "0 0\n",
      "0 1\n",
      "0 2\n",
      "1 0\n",
      "1 1\n",
      "1 2\n",
      "2 0\n",
      "2 1\n",
      "2 2\n"
     ]
    }
   ],
   "source": [
    "n = int(input())\n",
    "\n",
    "for i in range(n):\n",
    "    for j in range(n):\n",
    "        print(i, j)"
   ]
  },
  {
   "cell_type": "markdown",
   "metadata": {},
   "source": [
    "이외에도 여러 표기가 있습니다.\n",
    "\n",
    "O(2N)은 그냥 O(N)으로 표현합니다. 수학적인 O(f(x))의 정의에 의하면  \n",
    "O(2N) = O(N)이기 때문입니다. 쉽게 생각하면 시간복잡도 앞에 붙은 상수는 무시한다고 생각하시면 됩니다."
   ]
  },
  {
   "cell_type": "markdown",
   "metadata": {},
   "source": [
    "참고할만한 글들입니다.\n",
    "\n",
    "- [나무위키: 시간복잡도](https://namu.wiki/w/%EC%8B%9C%EA%B0%84%20%EB%B3%B5%EC%9E%A1%EB%8F%84)\n",
    "- [dam2.log: 시간복잡도](https://velog.io/@do_dam/%EC%8B%9C%EA%B0%84-%EB%B3%B5%EC%9E%A1%EB%8F%84Time-Complexity-Big-O-%ED%91%9C%EA%B8%B0%EB%B2%95-%ED%99%9C%EC%9A%A9)\n"
   ]
  }
 ],
 "metadata": {
  "kernelspec": {
   "display_name": ".venv",
   "language": "python",
   "name": "python3"
  },
  "language_info": {
   "codemirror_mode": {
    "name": "ipython",
    "version": 3
   },
   "file_extension": ".py",
   "mimetype": "text/x-python",
   "name": "python",
   "nbconvert_exporter": "python",
   "pygments_lexer": "ipython3",
   "version": "3.12.3"
  }
 },
 "nbformat": 4,
 "nbformat_minor": 2
}
