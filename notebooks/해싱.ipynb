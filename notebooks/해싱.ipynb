{
 "cells": [
  {
   "cell_type": "markdown",
   "metadata": {},
   "source": [
    "## 해싱이란?\n",
    "작게는 어떤 객체를 되돌릴 수 없는 다른 값으로 바꾸는 걸 의미합니다."
   ]
  },
  {
   "cell_type": "code",
   "execution_count": 5,
   "metadata": {},
   "outputs": [
    {
     "name": "stdout",
     "output_type": "stream",
     "text": [
      "4557924659589790951\n",
      "-1793385112386609920\n"
     ]
    }
   ],
   "source": [
    "print(hash(\"안녕\"))\n",
    "print(hash(\"안녕녕\"))"
   ]
  },
  {
   "cell_type": "markdown",
   "metadata": {},
   "source": [
    "해시 함수는 값이 조금만 달라져도 완전 다른 값을 반환한다는 특징이 있습니다.\n",
    "해시 함수는 인수에 따라 다른 값을 반환하도록 설계되었습니다. 그렇기에 각 객체를 구분하는 id와 같은 기능이 되기도 합니다.\n",
    "\n",
    "파이썬에서 set, dictionary가 해싱으로 구현되어 있습니다.\n",
    "\n",
    "해싱 연산은 O(1)이기 때문에, list에 in 연산을 사용하는 것(O(N))보다 set, dictionary에 in 연산을 사용하는 것(O(1))이 훨씬 빠릅니다."
   ]
  },
  {
   "cell_type": "code",
   "execution_count": 7,
   "metadata": {},
   "outputs": [],
   "source": [
    "list_ = list(range(1000))\n",
    "\n",
    "for _ in range(1_000_000):\n",
    "    999 in list_"
   ]
  },
  {
   "cell_type": "code",
   "execution_count": 8,
   "metadata": {},
   "outputs": [],
   "source": [
    "set_ = set(range(1000))\n",
    "\n",
    "for _ in range(1_000_000):\n",
    "    999 in set_"
   ]
  },
  {
   "cell_type": "markdown",
   "metadata": {},
   "source": [
    "위 두 코드의 실행시간을 통해 연산 속도가 엄청나게 차이난다는 것을 알 수 있습니다."
   ]
  }
 ],
 "metadata": {
  "kernelspec": {
   "display_name": ".venv",
   "language": "python",
   "name": "python3"
  },
  "language_info": {
   "codemirror_mode": {
    "name": "ipython",
    "version": 3
   },
   "file_extension": ".py",
   "mimetype": "text/x-python",
   "name": "python",
   "nbconvert_exporter": "python",
   "pygments_lexer": "ipython3",
   "version": "3.12.3"
  }
 },
 "nbformat": 4,
 "nbformat_minor": 2
}
