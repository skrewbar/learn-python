{
 "cells": [
  {
   "cell_type": "markdown",
   "metadata": {},
   "source": [
    "파이썬의 논리 연산자는 두 bool 변수에 대한 값을 반환하는 연산자로 3가지가 있습니다.  \n",
    "\n",
    "## 1. and\n",
    "and 혹은 &으로 씁니다. &는 비트연산자이지만 결국 같은 역할을 수행합니다.  \n",
    "bool1 and bool2 에서 두 조건이 모두 True일 때 True를 반환합니다.  \n",
    "\n",
    "bool에 꼭 괄호를 쓸 필요는 없으나 연산자 우선순위가 꼬이는 경우와 가독성을 위해 가끔씩 쓰기도 합니다."
   ]
  },
  {
   "cell_type": "code",
   "execution_count": 12,
   "metadata": {},
   "outputs": [
    {
     "name": "stdout",
     "output_type": "stream",
     "text": [
      "True\n",
      "False\n"
     ]
    }
   ],
   "source": [
    "print(\"3123\" < \"321\" and 1 < 3.14) # 참, 참\n",
    "print(\"321\" < \"3123\" and [1, 2, 3]) # 거짓, 참"
   ]
  },
  {
   "cell_type": "markdown",
   "metadata": {},
   "source": [
    "## 2. or\n",
    "or 혹은 |으로 씁니다.  \n",
    "두 bool 중 하나 이상이 True이면 True를 반환합니다.  "
   ]
  },
  {
   "cell_type": "code",
   "execution_count": 21,
   "metadata": {},
   "outputs": [
    {
     "name": "stdout",
     "output_type": "stream",
     "text": [
      "True\n",
      "False\n"
     ]
    }
   ],
   "source": [
    "print(True or False)\n",
    "print(False or False)"
   ]
  },
  {
   "cell_type": "markdown",
   "metadata": {},
   "source": [
    "## 3. not\n",
    "not으로 씁니다.  \n",
    "조건 앞에 쓰면 해당 bool값의 부정을 반환합니다."
   ]
  },
  {
   "cell_type": "code",
   "execution_count": 19,
   "metadata": {},
   "outputs": [
    {
     "name": "stdout",
     "output_type": "stream",
     "text": [
      "True\n",
      "True\n",
      "False\n",
      "True\n"
     ]
    }
   ],
   "source": [
    "s = {1, 2, 3, 4, 5}\n",
    "\n",
    "print(not 0 in s)\n",
    "print(0 not in s) # 이런 방식으로도 쓸 수 있습니다.\n",
    "print(not 1 in s)\n",
    "print(7 not in s)"
   ]
  },
  {
   "cell_type": "markdown",
   "metadata": {},
   "source": [
    "앞으로 코드를 작성하다 보면 아래 코드처럼 if 문에 논리 연산자를 자주 사용하게 될 것입니다."
   ]
  },
  {
   "cell_type": "code",
   "execution_count": 13,
   "metadata": {},
   "outputs": [],
   "source": [
    "# 아래 코드는 제가 직접 작성한 세그먼트 트리 코드의 일부입니다.\n",
    "# 그게 뭔지 궁금하면 저한테 따로 물어보세요.\n",
    "\n",
    "def getRangeSum(tree, node, start, end, left, right):\n",
    "    if right < start or end < left:\n",
    "        return 0\n",
    "    if left <= start and end <= right:\n",
    "        return tree[node]\n",
    "    lsum = getRangeSum(tree, node*2, start, (start+end)//2, left, right)\n",
    "    rsum = getRangeSum(tree, node*2+1, (start+end)//2+1, end, left, right)\n",
    "    return lsum + rsum\n"
   ]
  }
 ],
 "metadata": {
  "kernelspec": {
   "display_name": ".venv",
   "language": "python",
   "name": "python3"
  },
  "language_info": {
   "codemirror_mode": {
    "name": "ipython",
    "version": 3
   },
   "file_extension": ".py",
   "mimetype": "text/x-python",
   "name": "python",
   "nbconvert_exporter": "python",
   "pygments_lexer": "ipython3",
   "version": "3.12.3"
  }
 },
 "nbformat": 4,
 "nbformat_minor": 2
}
